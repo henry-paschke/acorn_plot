{
 "cells": [
  {
   "cell_type": "code",
   "execution_count": null,
   "metadata": {},
   "outputs": [
    {
     "ename": "",
     "evalue": "",
     "output_type": "error",
     "traceback": [
      "\u001b[1;31mRunning cells with 'Python 3.6.15' requires the ipykernel package.\n",
      "\u001b[1;31mRun the following command to install 'ipykernel' into the Python environment. \n",
      "\u001b[1;31mCommand: '/usr/bin/python3 -m pip install ipykernel -U --user --force-reinstall'"
     ]
    }
   ],
   "source": [
    "#Importing libraries \n",
    "import glob\n",
    "import pandas as pd\n",
    "import numpy as np\n",
    "import matplotlib.pyplot as plt\n",
    "#import seaborn as sns\n",
    "import pprint\n",
    "from scipy import stats\n",
    "#matplotlib.matplotlib_fname()"
   ]
  },
  {
   "cell_type": "code",
   "execution_count": null,
   "metadata": {},
   "outputs": [
    {
     "name": "stdout",
     "output_type": "stream",
     "text": [
      "Index(['Loading', 'Loading CPU', 'Loading GPU', 'Embedding', 'Embedding CPU',\n",
      "       'Embedding GPU', 'Build Edge', 'Build Edge CPU', 'Build Edge GPU',\n",
      "       'Filtering', 'Filtering CPU', 'Filtering GPU', 'GNN', 'GNN CPU',\n",
      "       'GNN GPU', 'Labels', 'Labels CPU', 'Labels GPU', 'edges', 'Total',\n",
      "       'Total CPU', 'Total GPU', 'hits', 'Reconstructable track',\n",
      "       'Reconstructed tracks', 'Reconstructable tracks Matched',\n",
      "       'Tracking efficiency', 'Tracking purity'],\n",
      "      dtype='object')\n"
     ]
    }
   ],
   "source": [
    "path = \"\"\n",
    "path_res = \"results/\"\n",
    "path_plot = \"plots/pdfs/\"\n",
    "what_array = [\"gpu_onnx_full\"] #\"gpu_sync_amp_500_32gb_gnn\"]\n",
    "#what_array = [\"gpu_sync_amp_500\",\"gpu_sync_amp_500\"]\n",
    "file_name = path+\"times_\"+what_array[0]+\".csv\"\n",
    "#fileas_name = path+\"times_\"+what_array[1]+\".csv\"\n",
    "sum_name = path_res+\"sum_\"+what_array[0]+\".csv\"\n",
    "plot_name = path_plot+what_array[0]+\".png\"\n",
    "\n",
    "times_df = pd.read_csv(file_name)\n",
    "times_df =  times_df.set_index('Event_ID')\n",
    "times_df = times_df.sort_index()\n",
    "print(times_df.columns)\n",
    "#times_df = times_df.drop(['Predict Tracks', 'Predict Tracks CPU','Predict Tracks GPU', 'edges'], axis=1)\n",
    "times_df = times_df.drop([ 'edges'], axis=1)\n",
    "\n",
    "#times_df = times_df.drop(['Reconstructable track', 'Reconstructed tracks','Reconstructable tracks Matched',\\\n",
    "#         'Tracking efficiency','Tracking purity','edges','hits'], axis=1)\n",
    "#times_df\n",
    "#timeas_df = pd.read_csv(fileas_name)\n",
    "#timeas_df =  timeas_df.set_index('Event_ID')\n",
    "#timeas_df = timeas_df.sort_index()\n",
    "#timeas_df = timeas_df.drop(['Edges', 'Hits'], axis=1)"
   ]
  },
  {
   "cell_type": "code",
   "execution_count": null,
   "metadata": {},
   "outputs": [
    {
     "name": "stdout",
     "output_type": "stream",
     "text": [
      "                Elapsed Time (s) Compute Time (s)     GPU Time (s)\n",
      "0  Data Loading  0.0017 ± 0.0002  0.0139 ± 0.0225  0.0016 ± 0.0002\n",
      "1     Embedding  0.0055 ± 0.0006  0.3716 ± 0.0698  0.0054 ± 0.0006\n",
      "2    Build Edge  0.0394 ± 0.0079  0.4527 ± 0.0349  0.0394 ± 0.0079\n",
      "3     Filtering  0.3184 ± 0.0722  0.3699 ± 0.1191   0.318 ± 0.0721\n",
      "4           GNN   0.099 ± 0.0196  0.1042 ± 0.0301  0.0988 ± 0.0195\n",
      "5      Labeling  0.1319 ± 0.0143  0.1318 ± 0.0142  0.1319 ± 0.0143\n",
      "6    Total Sync    0.61 ± 0.1105   2.012 ± 0.1796  0.6098 ± 0.1105\n"
     ]
    },
    {
     "name": "stderr",
     "output_type": "stream",
     "text": [
      "/usr/common/software/python/3.9-anaconda-2021.05/lib/python3.8/site-packages/pandas/core/indexing.py:1637: SettingWithCopyWarning: \n",
      "A value is trying to be set on a copy of a slice from a DataFrame\n",
      "\n",
      "See the caveats in the documentation: https://pandas.pydata.org/pandas-docs/stable/user_guide/indexing.html#returning-a-view-versus-a-copy\n",
      "  self._setitem_single_block(indexer, value, name)\n"
     ]
    }
   ],
   "source": [
    "data = {'': ['Data Loading','Embedding', 'Build Edge', 'Filtering','GNN','Labeling','Total Sync'], 'Elapsed Time (s)': [0, 0, 0, 0, 0, 0, 0], \\\n",
    "        'Compute Time (s)':[0, 0, 0, 0, 0, 0, 0], 'GPU Time (s)':[0, 0, 0, 0, 0, 0, 0]}\n",
    "\n",
    "table_df = pd.DataFrame.from_dict(data)\n",
    "series =  pd.Series(times_df.mean())\n",
    "series_std =  pd.Series(times_df.std())\n",
    "#totalas =  pd.Series(timeas_df.mean())\n",
    "#totalas_std =  pd.Series(timeas_df.std())\n",
    "device='gpu'\n",
    "if device=='cpu':\n",
    "    table_df['Elapsed Time (s)'].iloc[0] = str(series[0].round(4))+\" \\u00B1 \"+str(series_std[0].round(4))\n",
    "    table_df['Elapsed Time (s)'].iloc[1] = str(series[2].round(2))+\" \\u00B1 \"+str(series_std[2].round(2))\n",
    "    table_df['Elapsed Time (s)'].iloc[2] = str(series[4].astype('Int64'))+\" \\u00B1 \"+str(series_std[4].astype('Int64'))\n",
    "    table_df['Elapsed Time (s)'].iloc[3] = str(series[6].astype('Int64'))+\" \\u00B1 \"+str(series_std[6].astype('Int64'))\n",
    "    table_df['Elapsed Time (s)'].iloc[4] = str(series[8].astype('Int64'))+\" \\u00B1 \"+str(series_std[8].astype('Int64'))\n",
    "    table_df['Elapsed Time (s)'].iloc[5] = str(series[10].round(2))+\" \\u00B1 \"+str(series_std[10].round(2))\n",
    "    table_df['Elapsed Time (s)'].iloc[6] = str(series[13].astype('Int64'))+\" \\u00B1 \"+str(series_std[13].astype('Int64'))\n",
    "    #table_df['Elapsed Time (s)'].iloc[7] = str(totalas[1].astype('Int64'))+\" \\u00B1 \"+str(totalas_std[1].astype('Int64'))\n",
    "    \n",
    "    table_df['Compute Time (s)'].iloc[0] = str(series[1].round(4))+\" \\u00B1 \"+str(series_std[1].round(4))\n",
    "    table_df['Compute Time (s)'].iloc[1] = str(series[3].round(2))+\" \\u00B1 \"+str(series_std[3].round(2))\n",
    "    table_df['Compute Time (s)'].iloc[2] = str(series[5].astype('Int64'))+\" \\u00B1 \"+str(series_std[5].astype('Int64'))\n",
    "    table_df['Compute Time (s)'].iloc[3] = str(series[7].astype('Int64'))+\" \\u00B1 \"+str(series_std[7].astype('Int64'))\n",
    "    table_df['Compute Time (s)'].iloc[4] = str(series[9].astype('Int64'))+\" \\u00B1 \"+str(series_std[9].astype('Int64'))\n",
    "    table_df['Compute Time (s)'].iloc[5] = str(series[11].round(2))+\" \\u00B1 \"+str(series_std[11].round(2))\n",
    "    table_df['Compute Time (s)'].iloc[6] = str(series[14].astype('Int64'))+\" \\u00B1 \"+str(series_std[14].astype('Int64'))\n",
    "else:\n",
    "    for i in range(7):\n",
    "        table_df['Elapsed Time (s)'].iloc[i] = str(series[3*i].round(4))+\" \\u00B1 \"+str(series_std[3*i].round(4))\n",
    "        table_df['Compute Time (s)'].iloc[i] = str(series[3*i+1].round(4))+\" \\u00B1 \"+str(series_std[3*i+1].round(4))\n",
    "        table_df['GPU Time (s)'].iloc[i] = str(series[3*i+2].round(4))+\" \\u00B1 \"+str(series_std[3*i+2].round(4))\n",
    "        \n",
    "    #table_df['Elapsed Time (s)'].iloc[7] = str(totalas[0].round(2))+\" \\u00B1 \"+str(totalas_std[0].round(2))\n",
    "    #table_df['Compute Time (s)'].iloc[7] = str(totalas[1].round(2))+\" \\u00B1 \"+str(totalas_std[1].round(2))\n",
    "#pd.options.display.float_format = '{:,.2f}'.format\n",
    "print(table_df)\n",
    "table_df.to_csv(sum_name)\n",
    "table_df1 = table_df"
   ]
  },
  {
   "cell_type": "code",
   "execution_count": null,
   "metadata": {},
   "outputs": [
    {
     "ename": "FileNotFoundError",
     "evalue": "[Errno 2] No such file or directory: 'times_gpu_sync_amp_500_32gb.csv'",
     "output_type": "error",
     "traceback": [
      "\u001b[0;31m---------------------------------------------------------------------------\u001b[0m",
      "\u001b[0;31mFileNotFoundError\u001b[0m                         Traceback (most recent call last)",
      "\u001b[0;32m<ipython-input-4-57ac7c5da1e1>\u001b[0m in \u001b[0;36m<module>\u001b[0;34m\u001b[0m\n\u001b[1;32m     10\u001b[0m \u001b[0mplot_name\u001b[0m \u001b[0;34m=\u001b[0m \u001b[0mpath_plot\u001b[0m\u001b[0;34m+\u001b[0m\u001b[0mwhat_array\u001b[0m\u001b[0;34m[\u001b[0m\u001b[0;36m0\u001b[0m\u001b[0;34m]\u001b[0m\u001b[0;34m+\u001b[0m\u001b[0;34m\".png\"\u001b[0m\u001b[0;34m\u001b[0m\u001b[0;34m\u001b[0m\u001b[0m\n\u001b[1;32m     11\u001b[0m \u001b[0;34m\u001b[0m\u001b[0m\n\u001b[0;32m---> 12\u001b[0;31m \u001b[0mtimes_df\u001b[0m \u001b[0;34m=\u001b[0m \u001b[0mpd\u001b[0m\u001b[0;34m.\u001b[0m\u001b[0mread_csv\u001b[0m\u001b[0;34m(\u001b[0m\u001b[0mfile_name\u001b[0m\u001b[0;34m)\u001b[0m\u001b[0;34m\u001b[0m\u001b[0;34m\u001b[0m\u001b[0m\n\u001b[0m\u001b[1;32m     13\u001b[0m \u001b[0mtimes_df\u001b[0m \u001b[0;34m=\u001b[0m  \u001b[0mtimes_df\u001b[0m\u001b[0;34m.\u001b[0m\u001b[0mset_index\u001b[0m\u001b[0;34m(\u001b[0m\u001b[0;34m'Event_ID'\u001b[0m\u001b[0;34m)\u001b[0m\u001b[0;34m\u001b[0m\u001b[0;34m\u001b[0m\u001b[0m\n\u001b[1;32m     14\u001b[0m \u001b[0mtimes_df\u001b[0m \u001b[0;34m=\u001b[0m \u001b[0mtimes_df\u001b[0m\u001b[0;34m.\u001b[0m\u001b[0msort_index\u001b[0m\u001b[0;34m(\u001b[0m\u001b[0;34m)\u001b[0m\u001b[0;34m\u001b[0m\u001b[0;34m\u001b[0m\u001b[0m\n",
      "\u001b[0;32m/usr/common/software/python/3.9-anaconda-2021.05/lib/python3.8/site-packages/pandas/io/parsers.py\u001b[0m in \u001b[0;36mread_csv\u001b[0;34m(filepath_or_buffer, sep, delimiter, header, names, index_col, usecols, squeeze, prefix, mangle_dupe_cols, dtype, engine, converters, true_values, false_values, skipinitialspace, skiprows, skipfooter, nrows, na_values, keep_default_na, na_filter, verbose, skip_blank_lines, parse_dates, infer_datetime_format, keep_date_col, date_parser, dayfirst, cache_dates, iterator, chunksize, compression, thousands, decimal, lineterminator, quotechar, quoting, doublequote, escapechar, comment, encoding, dialect, error_bad_lines, warn_bad_lines, delim_whitespace, low_memory, memory_map, float_precision, storage_options)\u001b[0m\n\u001b[1;32m    608\u001b[0m     \u001b[0mkwds\u001b[0m\u001b[0;34m.\u001b[0m\u001b[0mupdate\u001b[0m\u001b[0;34m(\u001b[0m\u001b[0mkwds_defaults\u001b[0m\u001b[0;34m)\u001b[0m\u001b[0;34m\u001b[0m\u001b[0;34m\u001b[0m\u001b[0m\n\u001b[1;32m    609\u001b[0m \u001b[0;34m\u001b[0m\u001b[0m\n\u001b[0;32m--> 610\u001b[0;31m     \u001b[0;32mreturn\u001b[0m \u001b[0m_read\u001b[0m\u001b[0;34m(\u001b[0m\u001b[0mfilepath_or_buffer\u001b[0m\u001b[0;34m,\u001b[0m \u001b[0mkwds\u001b[0m\u001b[0;34m)\u001b[0m\u001b[0;34m\u001b[0m\u001b[0;34m\u001b[0m\u001b[0m\n\u001b[0m\u001b[1;32m    611\u001b[0m \u001b[0;34m\u001b[0m\u001b[0m\n\u001b[1;32m    612\u001b[0m \u001b[0;34m\u001b[0m\u001b[0m\n",
      "\u001b[0;32m/usr/common/software/python/3.9-anaconda-2021.05/lib/python3.8/site-packages/pandas/io/parsers.py\u001b[0m in \u001b[0;36m_read\u001b[0;34m(filepath_or_buffer, kwds)\u001b[0m\n\u001b[1;32m    460\u001b[0m \u001b[0;34m\u001b[0m\u001b[0m\n\u001b[1;32m    461\u001b[0m     \u001b[0;31m# Create the parser.\u001b[0m\u001b[0;34m\u001b[0m\u001b[0;34m\u001b[0m\u001b[0;34m\u001b[0m\u001b[0m\n\u001b[0;32m--> 462\u001b[0;31m     \u001b[0mparser\u001b[0m \u001b[0;34m=\u001b[0m \u001b[0mTextFileReader\u001b[0m\u001b[0;34m(\u001b[0m\u001b[0mfilepath_or_buffer\u001b[0m\u001b[0;34m,\u001b[0m \u001b[0;34m**\u001b[0m\u001b[0mkwds\u001b[0m\u001b[0;34m)\u001b[0m\u001b[0;34m\u001b[0m\u001b[0;34m\u001b[0m\u001b[0m\n\u001b[0m\u001b[1;32m    463\u001b[0m \u001b[0;34m\u001b[0m\u001b[0m\n\u001b[1;32m    464\u001b[0m     \u001b[0;32mif\u001b[0m \u001b[0mchunksize\u001b[0m \u001b[0;32mor\u001b[0m \u001b[0miterator\u001b[0m\u001b[0;34m:\u001b[0m\u001b[0;34m\u001b[0m\u001b[0;34m\u001b[0m\u001b[0m\n",
      "\u001b[0;32m/usr/common/software/python/3.9-anaconda-2021.05/lib/python3.8/site-packages/pandas/io/parsers.py\u001b[0m in \u001b[0;36m__init__\u001b[0;34m(self, f, engine, **kwds)\u001b[0m\n\u001b[1;32m    817\u001b[0m             \u001b[0mself\u001b[0m\u001b[0;34m.\u001b[0m\u001b[0moptions\u001b[0m\u001b[0;34m[\u001b[0m\u001b[0;34m\"has_index_names\"\u001b[0m\u001b[0;34m]\u001b[0m \u001b[0;34m=\u001b[0m \u001b[0mkwds\u001b[0m\u001b[0;34m[\u001b[0m\u001b[0;34m\"has_index_names\"\u001b[0m\u001b[0;34m]\u001b[0m\u001b[0;34m\u001b[0m\u001b[0;34m\u001b[0m\u001b[0m\n\u001b[1;32m    818\u001b[0m \u001b[0;34m\u001b[0m\u001b[0m\n\u001b[0;32m--> 819\u001b[0;31m         \u001b[0mself\u001b[0m\u001b[0;34m.\u001b[0m\u001b[0m_engine\u001b[0m \u001b[0;34m=\u001b[0m \u001b[0mself\u001b[0m\u001b[0;34m.\u001b[0m\u001b[0m_make_engine\u001b[0m\u001b[0;34m(\u001b[0m\u001b[0mself\u001b[0m\u001b[0;34m.\u001b[0m\u001b[0mengine\u001b[0m\u001b[0;34m)\u001b[0m\u001b[0;34m\u001b[0m\u001b[0;34m\u001b[0m\u001b[0m\n\u001b[0m\u001b[1;32m    820\u001b[0m \u001b[0;34m\u001b[0m\u001b[0m\n\u001b[1;32m    821\u001b[0m     \u001b[0;32mdef\u001b[0m \u001b[0mclose\u001b[0m\u001b[0;34m(\u001b[0m\u001b[0mself\u001b[0m\u001b[0;34m)\u001b[0m\u001b[0;34m:\u001b[0m\u001b[0;34m\u001b[0m\u001b[0;34m\u001b[0m\u001b[0m\n",
      "\u001b[0;32m/usr/common/software/python/3.9-anaconda-2021.05/lib/python3.8/site-packages/pandas/io/parsers.py\u001b[0m in \u001b[0;36m_make_engine\u001b[0;34m(self, engine)\u001b[0m\n\u001b[1;32m   1048\u001b[0m             )\n\u001b[1;32m   1049\u001b[0m         \u001b[0;31m# error: Too many arguments for \"ParserBase\"\u001b[0m\u001b[0;34m\u001b[0m\u001b[0;34m\u001b[0m\u001b[0;34m\u001b[0m\u001b[0m\n\u001b[0;32m-> 1050\u001b[0;31m         \u001b[0;32mreturn\u001b[0m \u001b[0mmapping\u001b[0m\u001b[0;34m[\u001b[0m\u001b[0mengine\u001b[0m\u001b[0;34m]\u001b[0m\u001b[0;34m(\u001b[0m\u001b[0mself\u001b[0m\u001b[0;34m.\u001b[0m\u001b[0mf\u001b[0m\u001b[0;34m,\u001b[0m \u001b[0;34m**\u001b[0m\u001b[0mself\u001b[0m\u001b[0;34m.\u001b[0m\u001b[0moptions\u001b[0m\u001b[0;34m)\u001b[0m  \u001b[0;31m# type: ignore[call-arg]\u001b[0m\u001b[0;34m\u001b[0m\u001b[0;34m\u001b[0m\u001b[0m\n\u001b[0m\u001b[1;32m   1051\u001b[0m \u001b[0;34m\u001b[0m\u001b[0m\n\u001b[1;32m   1052\u001b[0m     \u001b[0;32mdef\u001b[0m \u001b[0m_failover_to_python\u001b[0m\u001b[0;34m(\u001b[0m\u001b[0mself\u001b[0m\u001b[0;34m)\u001b[0m\u001b[0;34m:\u001b[0m\u001b[0;34m\u001b[0m\u001b[0;34m\u001b[0m\u001b[0m\n",
      "\u001b[0;32m/usr/common/software/python/3.9-anaconda-2021.05/lib/python3.8/site-packages/pandas/io/parsers.py\u001b[0m in \u001b[0;36m__init__\u001b[0;34m(self, src, **kwds)\u001b[0m\n\u001b[1;32m   1865\u001b[0m \u001b[0;34m\u001b[0m\u001b[0m\n\u001b[1;32m   1866\u001b[0m         \u001b[0;31m# open handles\u001b[0m\u001b[0;34m\u001b[0m\u001b[0;34m\u001b[0m\u001b[0;34m\u001b[0m\u001b[0m\n\u001b[0;32m-> 1867\u001b[0;31m         \u001b[0mself\u001b[0m\u001b[0;34m.\u001b[0m\u001b[0m_open_handles\u001b[0m\u001b[0;34m(\u001b[0m\u001b[0msrc\u001b[0m\u001b[0;34m,\u001b[0m \u001b[0mkwds\u001b[0m\u001b[0;34m)\u001b[0m\u001b[0;34m\u001b[0m\u001b[0;34m\u001b[0m\u001b[0m\n\u001b[0m\u001b[1;32m   1868\u001b[0m         \u001b[0;32massert\u001b[0m \u001b[0mself\u001b[0m\u001b[0;34m.\u001b[0m\u001b[0mhandles\u001b[0m \u001b[0;32mis\u001b[0m \u001b[0;32mnot\u001b[0m \u001b[0;32mNone\u001b[0m\u001b[0;34m\u001b[0m\u001b[0;34m\u001b[0m\u001b[0m\n\u001b[1;32m   1869\u001b[0m         \u001b[0;32mfor\u001b[0m \u001b[0mkey\u001b[0m \u001b[0;32min\u001b[0m \u001b[0;34m(\u001b[0m\u001b[0;34m\"storage_options\"\u001b[0m\u001b[0;34m,\u001b[0m \u001b[0;34m\"encoding\"\u001b[0m\u001b[0;34m,\u001b[0m \u001b[0;34m\"memory_map\"\u001b[0m\u001b[0;34m,\u001b[0m \u001b[0;34m\"compression\"\u001b[0m\u001b[0;34m)\u001b[0m\u001b[0;34m:\u001b[0m\u001b[0;34m\u001b[0m\u001b[0;34m\u001b[0m\u001b[0m\n",
      "\u001b[0;32m/usr/common/software/python/3.9-anaconda-2021.05/lib/python3.8/site-packages/pandas/io/parsers.py\u001b[0m in \u001b[0;36m_open_handles\u001b[0;34m(self, src, kwds)\u001b[0m\n\u001b[1;32m   1360\u001b[0m         \u001b[0mLet\u001b[0m \u001b[0mthe\u001b[0m \u001b[0mreaders\u001b[0m \u001b[0mopen\u001b[0m \u001b[0mIOHanldes\u001b[0m \u001b[0mafter\u001b[0m \u001b[0mthey\u001b[0m \u001b[0mare\u001b[0m \u001b[0mdone\u001b[0m \u001b[0;32mwith\u001b[0m \u001b[0mtheir\u001b[0m \u001b[0mpotential\u001b[0m \u001b[0mraises\u001b[0m\u001b[0;34m.\u001b[0m\u001b[0;34m\u001b[0m\u001b[0;34m\u001b[0m\u001b[0m\n\u001b[1;32m   1361\u001b[0m         \"\"\"\n\u001b[0;32m-> 1362\u001b[0;31m         self.handles = get_handle(\n\u001b[0m\u001b[1;32m   1363\u001b[0m             \u001b[0msrc\u001b[0m\u001b[0;34m,\u001b[0m\u001b[0;34m\u001b[0m\u001b[0;34m\u001b[0m\u001b[0m\n\u001b[1;32m   1364\u001b[0m             \u001b[0;34m\"r\"\u001b[0m\u001b[0;34m,\u001b[0m\u001b[0;34m\u001b[0m\u001b[0;34m\u001b[0m\u001b[0m\n",
      "\u001b[0;32m/usr/common/software/python/3.9-anaconda-2021.05/lib/python3.8/site-packages/pandas/io/common.py\u001b[0m in \u001b[0;36mget_handle\u001b[0;34m(path_or_buf, mode, encoding, compression, memory_map, is_text, errors, storage_options)\u001b[0m\n\u001b[1;32m    640\u001b[0m                 \u001b[0merrors\u001b[0m \u001b[0;34m=\u001b[0m \u001b[0;34m\"replace\"\u001b[0m\u001b[0;34m\u001b[0m\u001b[0;34m\u001b[0m\u001b[0m\n\u001b[1;32m    641\u001b[0m             \u001b[0;31m# Encoding\u001b[0m\u001b[0;34m\u001b[0m\u001b[0;34m\u001b[0m\u001b[0;34m\u001b[0m\u001b[0m\n\u001b[0;32m--> 642\u001b[0;31m             handle = open(\n\u001b[0m\u001b[1;32m    643\u001b[0m                 \u001b[0mhandle\u001b[0m\u001b[0;34m,\u001b[0m\u001b[0;34m\u001b[0m\u001b[0;34m\u001b[0m\u001b[0m\n\u001b[1;32m    644\u001b[0m                 \u001b[0mioargs\u001b[0m\u001b[0;34m.\u001b[0m\u001b[0mmode\u001b[0m\u001b[0;34m,\u001b[0m\u001b[0;34m\u001b[0m\u001b[0;34m\u001b[0m\u001b[0m\n",
      "\u001b[0;31mFileNotFoundError\u001b[0m: [Errno 2] No such file or directory: 'times_gpu_sync_amp_500_32gb.csv'"
     ]
    }
   ],
   "source": [
    "path = \"../run200/time/\"\n",
    "path = ''\n",
    "path_res = \"../run200/results/\"\n",
    "path_plot = \"../run200/plots/pdfs/\"\n",
    "what_array = [\"gpu_sync_amp_500_32gb\",\"gpu_sync_amp_500_32gb\"] #\"gpu_sync_amp_500_32gb_gnn\"]\n",
    "#what_array = [\"gpu_sync_amp_500\",\"gpu_sync_amp_500\"]\n",
    "file_name = path+\"times_\"+what_array[0]+\".csv\"\n",
    "fileas_name = path+\"times_\"+what_array[1]+\".csv\"\n",
    "sum_name = path_res+\"sum_\"+what_array[0]+\".csv\"\n",
    "plot_name = path_plot+what_array[0]+\".png\"\n",
    "\n",
    "times_df = pd.read_csv(file_name)\n",
    "times_df =  times_df.set_index('Event_ID')\n",
    "times_df = times_df.sort_index()\n",
    "times_df = times_df.drop(['Predict Tracks', 'Predict Tracks CPU','Predict Tracks GPU'], axis=1)\n",
    "times_df = times_df.drop(['edges', 'hits'], axis=1)\n",
    "\n",
    "timeas_df = pd.read_csv(fileas_name)\n",
    "timeas_df =  timeas_df.set_index('Event_ID')\n",
    "timeas_df = timeas_df.sort_index()\n",
    "#timeas_df = timeas_df.drop(['Edges', 'Hits'], axis=1)"
   ]
  },
  {
   "cell_type": "code",
   "execution_count": null,
   "metadata": {},
   "outputs": [],
   "source": [
    "data = {'': ['Data Loading','Embedding', 'Build Edge', 'Filtering','GNN','Labeling','Total Sync', 'Total Async'], 'Elapsed Time (s)': [0, 0, 0, 0, 0, 0, 0, 0], \\\n",
    "        'Compute Time (s)':[0, 0, 0, 0, 0, 0, 0, 0], 'GPU Time (s)':[0, 0, 0, 0, 0, 0, 0, 0]}\n",
    "\n",
    "table_df = pd.DataFrame.from_dict(data)\n",
    "series =  pd.Series(times_df.mean())\n",
    "series_std =  pd.Series(times_df.std())\n",
    "totalas =  pd.Series(timeas_df.mean())\n",
    "totalas_std =  pd.Series(timeas_df.std())\n",
    "device='gpu'\n",
    "if device=='cpu':\n",
    "    table_df['Elapsed Time (s)'].iloc[0] = str(series[0].round(4))+\" \\u00B1 \"+str(series_std[0].round(4))\n",
    "    table_df['Elapsed Time (s)'].iloc[1] = str(series[2].round(2))+\" \\u00B1 \"+str(series_std[2].round(2))\n",
    "    table_df['Elapsed Time (s)'].iloc[2] = str(series[4].astype('Int64'))+\" \\u00B1 \"+str(series_std[4].astype('Int64'))\n",
    "    table_df['Elapsed Time (s)'].iloc[3] = str(series[6].astype('Int64'))+\" \\u00B1 \"+str(series_std[6].astype('Int64'))\n",
    "    table_df['Elapsed Time (s)'].iloc[4] = str(series[8].astype('Int64'))+\" \\u00B1 \"+str(series_std[8].astype('Int64'))\n",
    "    table_df['Elapsed Time (s)'].iloc[5] = str(series[10].round(2))+\" \\u00B1 \"+str(series_std[10].round(2))\n",
    "    table_df['Elapsed Time (s)'].iloc[6] = str(series[13].astype('Int64'))+\" \\u00B1 \"+str(series_std[13].astype('Int64'))\n",
    "    table_df['Elapsed Time (s)'].iloc[7] = str(totalas[1].astype('Int64'))+\" \\u00B1 \"+str(totalas_std[1].astype('Int64'))\n",
    "    \n",
    "    table_df['Compute Time (s)'].iloc[0] = str(series[1].round(4))+\" \\u00B1 \"+str(series_std[1].round(4))\n",
    "    table_df['Compute Time (s)'].iloc[1] = str(series[3].round(2))+\" \\u00B1 \"+str(series_std[3].round(2))\n",
    "    table_df['Compute Time (s)'].iloc[2] = str(series[5].astype('Int64'))+\" \\u00B1 \"+str(series_std[5].astype('Int64'))\n",
    "    table_df['Compute Time (s)'].iloc[3] = str(series[7].astype('Int64'))+\" \\u00B1 \"+str(series_std[7].astype('Int64'))\n",
    "    table_df['Compute Time (s)'].iloc[4] = str(series[9].astype('Int64'))+\" \\u00B1 \"+str(series_std[9].astype('Int64'))\n",
    "    table_df['Compute Time (s)'].iloc[5] = str(series[11].round(2))+\" \\u00B1 \"+str(series_std[11].round(2))\n",
    "    table_df['Compute Time (s)'].iloc[6] = str(series[14].astype('Int64'))+\" \\u00B1 \"+str(series_std[14].astype('Int64'))\n",
    "else:\n",
    "    for i in range(7):\n",
    "        table_df['Elapsed Time (s)'].iloc[i] = str(series[3*i].round(4))+\" \\u00B1 \"+str(series_std[3*i].round(4))\n",
    "        table_df['Compute Time (s)'].iloc[i] = str(series[3*i+1].round(4))+\" \\u00B1 \"+str(series_std[3*i+1].round(4))\n",
    "        if i!= 6:\n",
    "            table_df['GPU Time (s)'].iloc[i] = str(series[3*i+2].round(4))+\" \\u00B1 \"+str(series_std[3*i+2].round(4))\n",
    "        \n",
    "    table_df['Elapsed Time (s)'].iloc[7] = str(totalas[0].round(2))+\" \\u00B1 \"+str(totalas_std[0].round(2))\n",
    "    table_df['Compute Time (s)'].iloc[7] = str(totalas[1].round(2))+\" \\u00B1 \"+str(totalas_std[1].round(2))\n",
    "#pd.options.display.float_format = '{:,.2f}'.format\n",
    "print(table_df)\n",
    "table_df.to_csv(sum_name)\n",
    "table_df2 = table_df"
   ]
  },
  {
   "cell_type": "code",
   "execution_count": null,
   "metadata": {},
   "outputs": [],
   "source": [
    "result = pd.concat([table_df1, table_df2], axis=1)\n",
    "#result = table_df_amp\n",
    "result.to_excel('results_amp_32gb_frnn.xlsx')\n",
    "result"
   ]
  },
  {
   "cell_type": "code",
   "execution_count": null,
   "metadata": {},
   "outputs": [],
   "source": [
    "path = \"../run200/time/\"\n",
    "path = ''\n",
    "path_res = \"../run200/results/\"\n",
    "path_plot = \"../run200/plots/pdfs/\"\n",
    "what_array = [\"gpu_sync_noamp\",\"gpu_async_noamp\"]\n",
    "file_name = path+\"times_\"+what_array[0]+\".csv\"\n",
    "fileas_name = path+\"times_\"+what_array[1]+\".csv\"\n",
    "sum_name = path_res+\"sum_\"+what_array[0]+\".csv\"\n",
    "plot_name = path_plot+what_array[0]+\".png\"\n",
    "\n",
    "times_df = pd.read_csv(file_name)\n",
    "times_df =  times_df.set_index('Event_ID')\n",
    "times_df = times_df.sort_index()\n",
    "times_df = times_df.drop(['Predict Tracks', 'Predict Tracks CPU','Predict Tracks GPU'], axis=1)\n",
    "\n",
    "timeas_df = pd.read_csv(fileas_name)\n",
    "timeas_df =  timeas_df.set_index('Event_ID')\n",
    "timeas_df = timeas_df.sort_index()"
   ]
  },
  {
   "cell_type": "code",
   "execution_count": null,
   "metadata": {},
   "outputs": [],
   "source": [
    "fig, ax = plt.subplots(1, 1,figsize=(6, 6))\n",
    "plt.scatter(times_df[\"hits\"], times_df[\"Total\"],alpha=0.3,s=30)\n",
    "ax.set_xlabel(\"Number of spacepoints\")\n",
    "ax.set_ylabel(\"Total time (s)\")\n",
    "plt.xticks(rotation = 45)\n",
    "\n",
    "slope, intercept, r_value, pv, se = stats.linregress(times_df['hits'],times_df['Total'])\n",
    "print(\"y={0:.4f}x+{1:.1f}\".format(slope, intercept))\n",
    "plt.plot(times_df[\"hits\"], slope*times_df[\"hits\"] + intercept, c='orange')\n",
    "plt.tight_layout()\n",
    "plot_name = path_plot + what_array[0] + \"hits.png\"\n",
    "plt.savefig(plot_name)"
   ]
  },
  {
   "cell_type": "code",
   "execution_count": null,
   "metadata": {},
   "outputs": [],
   "source": [
    "fig, ax = plt.subplots(1, 1,figsize=(6, 6))\n",
    "plt.scatter(times_df[\"edges\"], times_df[\"Total\"],alpha=0.3,s=30)\n",
    "ax.set_xlabel(\"Number of Edges\")\n",
    "ax.set_ylabel(\"Total Time (s)\")\n",
    "#plt.xticks(rotation = 45)\n",
    "\n",
    "slope, intercept, r_value, pv, se = stats.linregress(times_df['edges'],times_df['Total'])\n",
    "print(\"y={0:.4f}x+{1:.1f}\".format(slope, intercept))\n",
    "plt.plot(times_df[\"edges\"], slope*times_df[\"edges\"] + intercept,c='orange')\n",
    "plot_name = path_plot + what_array[0] + \"edges.png\"\n",
    "plt.tight_layout()\n",
    "plt.savefig(plot_name)"
   ]
  },
  {
   "cell_type": "code",
   "execution_count": null,
   "metadata": {},
   "outputs": [],
   "source": [
    "fig, ax = plt.subplots(1, 1,figsize=(6, 6))\n",
    "plt.scatter(timeas_df[\"Hits\"], timeas_df[\"Total\"],alpha=0.3,s=30)\n",
    "ax.set_xlabel(\"Number of spacepoints\")\n",
    "ax.set_ylabel(\"Total time (s)\")\n",
    "plt.xticks(rotation = 45)\n",
    "\n",
    "slope, intercept, r_value, pv, se = stats.linregress(timeas_df['Hits'],timeas_df['Total'])\n",
    "print(\"y={0:.4f}x+{1:.1f}\".format(slope, intercept))\n",
    "plt.plot(timeas_df[\"Hits\"], slope*timeas_df[\"Hits\"] + intercept, c='orange')\n",
    "plt.tight_layout()\n",
    "plot_name = path_plot + what_array[0] + \"hits.png\"\n",
    "plt.savefig(plot_name)"
   ]
  },
  {
   "cell_type": "code",
   "execution_count": null,
   "metadata": {},
   "outputs": [],
   "source": [
    "fig, ax = plt.subplots(1, 1,figsize=(6, 6))\n",
    "plt.scatter(timeas_df[\"Edges\"], timeas_df[\"Total\"],alpha=0.3,s=30)\n",
    "ax.set_xlabel(\"Number of Edges\")\n",
    "ax.set_ylabel(\"Total Time (s)\")\n",
    "#plt.xticks(rotation = 45)\n",
    "\n",
    "slope, intercept, r_value, pv, se = stats.linregress(timeas_df['Edges'],timeas_df['Total'])\n",
    "print(\"y={0:.4f}x+{1:.1f}\".format(slope, intercept))\n",
    "plt.plot(timeas_df[\"Edges\"], slope*timeas_df[\"Edges\"] + intercept,c='orange')\n",
    "plot_name = path_plot + what_array[0] + \"edges.png\"\n",
    "plt.tight_layout()\n",
    "plt.savefig(plot_name)"
   ]
  }
 ],
 "metadata": {
  "kernelspec": {
   "display_name": "NERSC Python",
   "language": "python",
   "name": "python3"
  },
  "language_info": {
   "codemirror_mode": {
    "name": "ipython",
    "version": 3
   },
   "file_extension": ".py",
   "mimetype": "text/x-python",
   "name": "python",
   "nbconvert_exporter": "python",
   "pygments_lexer": "ipython3",
   "version": "3.6.15"
  }
 },
 "nbformat": 4,
 "nbformat_minor": 4
}
